{
 "cells": [
  {
   "cell_type": "code",
   "execution_count": 71,
   "metadata": {},
   "outputs": [
    {
     "data": {
      "text/plain": [
       "(   label  pixel0  pixel1  pixel2  pixel3  pixel4  pixel5  pixel6  pixel7  \\\n",
       " 0      1       0       0       0       0       0       0       0       0   \n",
       " 1      0       0       0       0       0       0       0       0       0   \n",
       " 2      1       0       0       0       0       0       0       0       0   \n",
       " 3      4       0       0       0       0       0       0       0       0   \n",
       " 4      0       0       0       0       0       0       0       0       0   \n",
       " \n",
       "    pixel8    ...     pixel774  pixel775  pixel776  pixel777  pixel778  \\\n",
       " 0       0    ...            0         0         0         0         0   \n",
       " 1       0    ...            0         0         0         0         0   \n",
       " 2       0    ...            0         0         0         0         0   \n",
       " 3       0    ...            0         0         0         0         0   \n",
       " 4       0    ...            0         0         0         0         0   \n",
       " \n",
       "    pixel779  pixel780  pixel781  pixel782  pixel783  \n",
       " 0         0         0         0         0         0  \n",
       " 1         0         0         0         0         0  \n",
       " 2         0         0         0         0         0  \n",
       " 3         0         0         0         0         0  \n",
       " 4         0         0         0         0         0  \n",
       " \n",
       " [5 rows x 785 columns], 0    1\n",
       " 1    0\n",
       " 2    1\n",
       " 3    4\n",
       " 4    0\n",
       " Name: label, dtype: int64)"
      ]
     },
     "execution_count": 71,
     "metadata": {},
     "output_type": "execute_result"
    }
   ],
   "source": [
    "import numpy as np\n",
    "import pandas as pd\n",
    "from sklearn.linear_model import LogisticRegression\n",
    "from sklearn.decomposition import PCA\n",
    "\n",
    "data = pd.read_csv('./data/train.csv', index_col=False)\n",
    "test_data = pd.read_csv('./data/test.csv', index_col=False)\n",
    "\n",
    "y = data['label']\n",
    "X = data\n",
    "X.head(),y.head()"
   ]
  },
  {
   "cell_type": "code",
   "execution_count": 64,
   "metadata": {
    "scrolled": true
   },
   "outputs": [
    {
     "name": "stdout",
     "output_type": "stream",
     "text": [
      "<class 'pandas.core.frame.DataFrame'>\n",
      "Int64Index: 42000 entries, 0 to 41999\n",
      "Columns: 708 entries, pixel12 to pixel779\n",
      "dtypes: int64(708)\n",
      "memory usage: 227.2 MB\n"
     ]
    }
   ],
   "source": [
    "y = data['label']\n",
    "# X = data.loc[:, ~(data == 0).all()].drop('label', axis=1)\n",
    "cols = list(X)\n",
    "nunique = X.apply(pd.Series.nunique)\n",
    "cols_to_drop = nunique[nunique == 1].index\n",
    "X.drop(cols_to_drop, axis=1,inplace=True)\n",
    "X.info()"
   ]
  },
  {
   "cell_type": "code",
   "execution_count": 56,
   "metadata": {},
   "outputs": [
    {
     "data": {
      "text/plain": [
       "(42000, 708)"
      ]
     },
     "execution_count": 56,
     "metadata": {},
     "output_type": "execute_result"
    }
   ],
   "source": [
    "newX = X.applymap(lambda x: 0 if x == 0 else 1)\n",
    "newX = PCA(n_components=708).fit_transform(newX)\n",
    "len(newX), len(newX[0])"
   ]
  },
  {
   "cell_type": "code",
   "execution_count": 59,
   "metadata": {},
   "outputs": [
    {
     "data": {
      "text/plain": [
       "RangeIndex(start=0, stop=28000, step=1)"
      ]
     },
     "execution_count": 59,
     "metadata": {},
     "output_type": "execute_result"
    }
   ],
   "source": [
    "test_data = pd.read_csv('./data/test.csv')\n",
    "test_data.index"
   ]
  },
  {
   "cell_type": "code",
   "execution_count": null,
   "metadata": {},
   "outputs": [],
   "source": []
  }
 ],
 "metadata": {
  "kernelspec": {
   "display_name": "Python 3",
   "language": "python",
   "name": "python3"
  },
  "language_info": {
   "codemirror_mode": {
    "name": "ipython",
    "version": 3
   },
   "file_extension": ".py",
   "mimetype": "text/x-python",
   "name": "python",
   "nbconvert_exporter": "python",
   "pygments_lexer": "ipython3",
   "version": "3.6.2"
  }
 },
 "nbformat": 4,
 "nbformat_minor": 2
}
